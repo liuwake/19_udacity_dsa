{
 "cells": [
  {
   "cell_type": "markdown",
   "metadata": {},
   "source": [
    "# Create a binary tree\n",
    "![tree image](images/tree_01.png \"Tree\")"
   ]
  },
  {
   "cell_type": "markdown",
   "metadata": {},
   "source": [
    "## Task 01: build a node\n",
    "\n",
    "* on a piece of paper, draw a tree.\n",
    "* Define a node, what are the three things you'd expect in a node?\n",
    "* Define class called `Node`, and define a constructor that takes no arguments, and sets the three instance variables to `None`.\n",
    "* Note: coding from a blank cell (or blank piece of paper) is good practice for interviews!"
   ]
  },
  {
   "cell_type": "code",
   "execution_count": 1,
   "metadata": {
    "ExecuteTime": {
     "end_time": "2024-01-30T13:01:51.500802Z",
     "start_time": "2024-01-30T13:01:51.490696Z"
    }
   },
   "outputs": [],
   "source": [
    "## Define a node\n",
    "class Node():\n",
    "    def __init__(self):\n",
    "        self.value = None\n",
    "        self.left = None\n",
    "        self.right = None       \n"
   ]
  },
  {
   "cell_type": "code",
   "execution_count": 2,
   "metadata": {
    "ExecuteTime": {
     "end_time": "2024-01-30T13:01:52.211112Z",
     "start_time": "2024-01-30T13:01:52.202814Z"
    }
   },
   "outputs": [
    {
     "name": "stdout",
     "output_type": "stream",
     "text": [
      "\n",
      "value: None\n",
      "left: None\n",
      "right: None\n"
     ]
    }
   ],
   "source": [
    "node0 = Node()\n",
    "print(f\"\"\"\n",
    "value: {node0.value}\n",
    "left: {node0.left}\n",
    "right: {node0.right}\n",
    "\"\"\")"
   ]
  },
  {
   "cell_type": "markdown",
   "metadata": {},
   "source": [
    "## Task 02: add a constructor that takes the value as a parameter\n",
    "\n",
    "Copy what you just made, and modify the constructor so that it takes in an optional value, which it assigns as the node's value.  Otherwise, it sets the node's value to `None`.\n"
   ]
  },
  {
   "cell_type": "code",
   "execution_count": 3,
   "metadata": {
    "ExecuteTime": {
     "end_time": "2024-01-31T06:16:03.178654Z",
     "start_time": "2024-01-31T06:16:03.154411Z"
    }
   },
   "outputs": [],
   "source": [
    "## Your code here\n",
    "class Node():\n",
    "    def __init__(self, value=None):\n",
    "        self.value = value\n",
    "        self.left = None\n",
    "        self.right = None"
   ]
  },
  {
   "cell_type": "code",
   "execution_count": 4,
   "metadata": {
    "ExecuteTime": {
     "end_time": "2024-01-31T06:16:04.526092Z",
     "start_time": "2024-01-31T06:16:04.519031Z"
    }
   },
   "outputs": [
    {
     "name": "stdout",
     "output_type": "stream",
     "text": [
      "\n",
      "value: None\n",
      "left: None\n",
      "right: None\n",
      "\n",
      "\n",
      "value: apple\n",
      "left: None\n",
      "right: None\n"
     ]
    }
   ],
   "source": [
    "## Check\n",
    "\n",
    "node0 = Node()\n",
    "print(f\"\"\"\n",
    "value: {node0.value}\n",
    "left: {node0.left}\n",
    "right: {node0.right}\n",
    "\"\"\")\n",
    "\n",
    "node0 = Node(\"apple\")\n",
    "print(f\"\"\"\n",
    "value: {node0.value}\n",
    "left: {node0.left}\n",
    "right: {node0.right}\n",
    "\"\"\")"
   ]
  },
  {
   "cell_type": "markdown",
   "metadata": {},
   "source": [
    "## Task 03: add functions to set and get the value of the node\n",
    "\n",
    "Add functions `get_value` and `set_value`"
   ]
  },
  {
   "cell_type": "code",
   "execution_count": 5,
   "metadata": {
    "ExecuteTime": {
     "end_time": "2024-01-31T06:17:49.790046Z",
     "start_time": "2024-01-31T06:17:49.748970Z"
    }
   },
   "outputs": [],
   "source": [
    "# add set_value and get_value functions\n",
    "class Node():\n",
    "    def __init__(self, value=None):\n",
    "        self.value = value\n",
    "        self.left = None\n",
    "        self.right = None\n",
    "        \n",
    "    def set_value(self, value):\n",
    "        self.value = value\n",
    "    \n",
    "    def get_value(self):\n",
    "        return self.value\n",
    "    "
   ]
  },
  {
   "cell_type": "markdown",
   "metadata": {},
   "source": [
    "## Task 04: add functions that assign a left child, or right child\n",
    "\n",
    "Define a function `set_left_child` and a function `set_right_child`.  Each function takes in a node that it assigns as the left or right child, respectively.  Note that we can assume that this will replace any existing node if it's already assigned as a left or right child.\n",
    "\n",
    "Also, define `get_left_child` and `get_right_child` functions."
   ]
  },
  {
   "cell_type": "code",
   "execution_count": 7,
   "metadata": {
    "ExecuteTime": {
     "end_time": "2024-01-31T06:23:16.613761Z",
     "start_time": "2024-01-31T06:23:16.569556Z"
    }
   },
   "outputs": [],
   "source": [
    "## your code here\n",
    "class Node():\n",
    "    def __init__(self, value=None):\n",
    "        self.value = value\n",
    "        self.left = None\n",
    "        self.right = None\n",
    "    \n",
    "    def set_value(self, value):\n",
    "        self.value = value\n",
    "        \n",
    "    def get_value(self):\n",
    "        return self.value\n",
    "    \n",
    "    def set_left_child(self, node):\n",
    "        self.left = node\n",
    "        \n",
    "    def set_right_child(self, node):\n",
    "        self.right = node\n",
    "        \n",
    "    def get_left_child(self):\n",
    "        return self.left\n",
    "    \n",
    "    def get_right_child(self):\n",
    "        return self.right\n",
    "        "
   ]
  },
  {
   "cell_type": "code",
   "execution_count": 8,
   "metadata": {
    "ExecuteTime": {
     "end_time": "2024-01-31T06:23:17.879573Z",
     "start_time": "2024-01-31T06:23:17.873452Z"
    }
   },
   "outputs": [
    {
     "name": "stdout",
     "output_type": "stream",
     "text": [
      "\n",
      "node 0: apple\n",
      "node 0 left child: banana\n",
      "node 0 right child: orange\n"
     ]
    }
   ],
   "source": [
    "## check\n",
    "\n",
    "node0 = Node(\"apple\")\n",
    "node1 = Node(\"banana\")\n",
    "node2 = Node(\"orange\")\n",
    "node0.set_left_child(node1)\n",
    "node0.set_right_child(node2)\n",
    "\n",
    "print(f\"\"\"\n",
    "node 0: {node0.value}\n",
    "node 0 left child: {node0.left.value}\n",
    "node 0 right child: {node0.right.value}\n",
    "\"\"\")"
   ]
  },
  {
   "cell_type": "markdown",
   "metadata": {},
   "source": [
    "## Task 05: check if left or right child exists\n",
    "\n",
    "Define functions `has_left_child`, `has_right_child`, so that they return true if the node has left child, or right child respectively."
   ]
  },
  {
   "cell_type": "code",
   "execution_count": 9,
   "outputs": [],
   "source": [
    "## your code here\n",
    "class Node():\n",
    "    def __init__(self, value=None):\n",
    "        self.value = value\n",
    "        self.left = None\n",
    "        self.right = None\n",
    "    \n",
    "    def set_value(self, value):\n",
    "        self.value = value\n",
    "        \n",
    "    def get_value(self):\n",
    "        return self.value\n",
    "    \n",
    "    def set_left_child(self, node):\n",
    "        self.left = node\n",
    "        \n",
    "    def set_right_child(self, node):\n",
    "        self.right = node\n",
    "        \n",
    "    def get_left_child(self):\n",
    "        return self.left\n",
    "    \n",
    "    def get_right_child(self):\n",
    "        return self.right\n",
    "        \n",
    "    def has_left_child(self):\n",
    "        return self.left != None\n",
    "    \n",
    "    def has_right_child(self):\n",
    "        return self.right!= None"
   ],
   "metadata": {
    "collapsed": false,
    "ExecuteTime": {
     "end_time": "2024-01-31T06:24:11.464294Z",
     "start_time": "2024-01-31T06:24:11.429902Z"
    }
   }
  },
  {
   "cell_type": "code",
   "execution_count": 10,
   "metadata": {
    "ExecuteTime": {
     "end_time": "2024-01-31T06:24:13.039577Z",
     "start_time": "2024-01-31T06:24:13.034401Z"
    }
   },
   "outputs": [
    {
     "name": "stdout",
     "output_type": "stream",
     "text": [
      "has left child? False\n",
      "has right child? False\n",
      "adding left and right children\n",
      "has left child? True\n",
      "has right child? True\n"
     ]
    }
   ],
   "source": [
    "## check\n",
    "\n",
    "node0 = Node(\"apple\")\n",
    "node1 = Node(\"banana\")\n",
    "node2 = Node(\"orange\")\n",
    "\n",
    "print(f\"has left child? {node0.has_left_child()}\")\n",
    "print(f\"has right child? {node0.has_right_child()}\")\n",
    "\n",
    "print(\"adding left and right children\")\n",
    "node0.set_left_child(node1)\n",
    "node0.set_right_child(node2)\n",
    "\n",
    "print(f\"has left child? {node0.has_left_child()}\")\n",
    "print(f\"has right child? {node0.has_right_child()}\")"
   ]
  },
  {
   "cell_type": "markdown",
   "metadata": {},
   "source": [
    "## Task 06: Create a binary tree\n",
    "\n",
    "Create a class called `Tree` that has a \"root\" instance variable of type `Node`.\n",
    "\n",
    "Also define a get_root method that returns the root node."
   ]
  },
  {
   "cell_type": "code",
   "execution_count": 11,
   "metadata": {
    "ExecuteTime": {
     "end_time": "2024-01-31T06:34:17.106977Z",
     "start_time": "2024-01-31T06:34:17.060640Z"
    }
   },
   "outputs": [],
   "source": [
    "# define a Tree class here\n",
    "class Tree():\n",
    "    def __init__(self):\n",
    "        self.root = None\n",
    "        \n",
    "    def get_root(self):\n",
    "        return self.root"
   ]
  },
  {
   "cell_type": "markdown",
   "metadata": {},
   "source": [
    "## Task 07: setting root node in constructor\n",
    "\n",
    "Let's modify the `Tree` constructor so that it takes an input that initializes the root node.  Choose between one of two options: \n",
    "1) the constructor takes a `Node` object  \n",
    "2) the constructor takes a value, then creates a new `Node` object using that value.  \n",
    "\n",
    "Which do you think is better?"
   ]
  },
  {
   "cell_type": "code",
   "execution_count": null,
   "metadata": {},
   "outputs": [],
   "source": [
    "# choose option 1 or 2 (you can try both), and explain why you made this choice\n",
    "class Tree():\n",
    "    def __init__(self, node=None):\n",
    "        self.root = node\n",
    "    \n",
    "    def get_root(self):\n",
    "        return self.root\n"
   ]
  },
  {
   "cell_type": "code",
   "execution_count": 12,
   "outputs": [],
   "source": [
    "class Tree():\n",
    "    def __init__(self, value=None):\n",
    "        self.root = Node(value)\n",
    "    \n",
    "    def get_root(self):\n",
    "        return self.root"
   ],
   "metadata": {
    "collapsed": false,
    "ExecuteTime": {
     "end_time": "2024-01-31T06:36:00.617754Z",
     "start_time": "2024-01-31T06:36:00.580416Z"
    }
   }
  },
  {
   "cell_type": "markdown",
   "metadata": {},
   "source": [
    "#### Discussion\n",
    "It would be easier for others to use your Tree class if you let them pass in the value that they want to store, rather than ask them to create the Node object, because that requires that they know about the Node class and how to use it."
   ]
  },
  {
   "cell_type": "markdown",
   "metadata": {},
   "source": [
    "## Task 08: add get method for root node\n"
   ]
  },
  {
   "cell_type": "code",
   "execution_count": null,
   "metadata": {},
   "outputs": [],
   "source": [
    "# add a get_root()\n"
   ]
  },
  {
   "cell_type": "markdown",
   "metadata": {},
   "source": [
    "## Next:\n",
    "\n",
    "Before we learn how to insert values into a tree, we'll first want to learn how to traverse a tree. We'll practice tree traversal next!"
   ]
  }
 ],
 "metadata": {
  "kernelspec": {
   "display_name": "Python 3",
   "language": "python",
   "name": "python3"
  },
  "language_info": {
   "codemirror_mode": {
    "name": "ipython",
    "version": 3
   },
   "file_extension": ".py",
   "mimetype": "text/x-python",
   "name": "python",
   "nbconvert_exporter": "python",
   "pygments_lexer": "ipython3",
   "version": "3.6.3"
  }
 },
 "nbformat": 4,
 "nbformat_minor": 2
}
