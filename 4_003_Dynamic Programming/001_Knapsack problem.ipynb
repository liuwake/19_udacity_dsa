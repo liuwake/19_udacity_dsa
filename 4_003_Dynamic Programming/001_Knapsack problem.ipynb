{
 "cells": [
  {
   "cell_type": "markdown",
   "metadata": {
    "graffitiCellId": "id_afkw8pd"
   },
   "source": [
    "# Knapsack Problem\n",
    "Now that you saw the dynamic programming solution for the knapsack problem, it's time to implement it. Implement the function `max_value` to return the maximum value given the items (`items`) and the maximum weight of the knapsack (`knapsack_max_weight`). The `items` variable is the type `Item`, which is a [named tuple](https://docs.python.org/3/library/collections.html#collections.namedtuple)."
   ]
  },
  {
   "cell_type": "code",
   "execution_count": null,
   "outputs": [],
   "source": [
    "# problem\n",
    "import collections\n",
    "\n",
    "Item = collections.namedtuple('Item', ['weight', 'value'])\n",
    "\n",
    "\n",
    "def max_value(knapsack_max_weight: int, items: list) -> int:\n",
    "    \"\"\"\n",
    "    Get the maximum value of the knapsack.\n",
    "    \"\"\"\n",
    "\n",
    "tests = [\n",
    "    {\n",
    "        'correct_output': 14,\n",
    "        'input':\n",
    "            {\n",
    "                'knapsack_max_weight': 15,\n",
    "                'items': [Item(10, 7), Item(9, 8), Item(5, 6)]}},\n",
    "    {\n",
    "        'correct_output': 13,\n",
    "        'input':\n",
    "            {\n",
    "                'knapsack_max_weight': 25,\n",
    "                'items': [Item(10, 2), Item(29, 10), Item(5, 7), Item(5, 3), Item(5, 1), Item(24, 12)]}}]\n",
    "for test in tests:\n",
    "    assert test['correct_output'] == max_value(**test['input'])\n",
    "    print(f\"finish: CA:{test['correct_output']} Yours:{max_value(**test['input'])}\")"
   ],
   "metadata": {
    "collapsed": false
   }
  },
  {
   "cell_type": "code",
   "execution_count": 7,
   "outputs": [
    {
     "name": "stdout",
     "output_type": "stream",
     "text": [
      "finish: CA:14 Yours:14\n",
      "finish: CA:13 Yours:13\n"
     ]
    }
   ],
   "source": [
    "# my\n",
    "import collections\n",
    "\n",
    "Item = collections.namedtuple('Item', ['weight', 'value'])\n",
    "\n",
    "\n",
    "def max_value(knapsack_max_weight: int, items: list) -> int:\n",
    "    \"\"\"\n",
    "    Get the maximum value of the knapsack.\n",
    "    \"\"\"\n",
    "    dp = [[0] * (knapsack_max_weight + 1) for _ in range(len(items) + 1)]\n",
    "    \n",
    "    for r in range(len(items) + 1):\n",
    "        if r == 0:\n",
    "            continue\n",
    "        for c in range(knapsack_max_weight + 1):\n",
    "            if c == 0:\n",
    "                continue\n",
    "            if c < items[r - 1].weight:\n",
    "                dp[r][c] = dp[r - 1][c]\n",
    "            else:\n",
    "                dp[r][c] = max(dp[r - 1][c], \n",
    "                               items[r - 1].value + dp[r - 1][c - items[r - 1].weight])\n",
    "    # print(dp)\n",
    "    return dp[-1][-1]\n",
    "    \n",
    "\n",
    "tests = [\n",
    "    {\n",
    "        'correct_output': 14,\n",
    "        'input':\n",
    "            {\n",
    "                'knapsack_max_weight': 15,\n",
    "                'items': [Item(10, 7), Item(9, 8), Item(5, 6)]}},\n",
    "    {\n",
    "        'correct_output': 13,\n",
    "        'input':\n",
    "            {\n",
    "                'knapsack_max_weight': 25,\n",
    "                'items': [Item(10, 2), Item(29, 10), Item(5, 7), Item(5, 3), Item(5, 1), Item(24, 12)]}}]\n",
    "for test in tests:\n",
    "    assert test['correct_output'] == max_value(**test['input'])\n",
    "    print(f\"finish: CA:{test['correct_output']} Yours:{max_value(**test['input'])}\")"
   ],
   "metadata": {
    "collapsed": false,
    "ExecuteTime": {
     "end_time": "2023-12-10T14:57:50.570244Z",
     "start_time": "2023-12-10T14:57:50.539596Z"
    }
   }
  },
  {
   "cell_type": "code",
   "execution_count": 1,
   "metadata": {
    "graffitiCellId": "id_p48fhwc"
   },
   "outputs": [],
   "source": [
    "# solution\n",
    "import collections\n",
    "\n",
    "Item = collections.namedtuple('Item', ['weight', 'value'])\n",
    "\n",
    "\n",
    "def max_value(knapsack_max_weight: int, items: list) -> int:\n",
    "    \"\"\"\n",
    "    Get the maximum value of the knapsack.\n",
    "    \"\"\"\n",
    "    items = sorted(items, key=lambda x: x.weight)\n",
    "    knapsack = [0 for _ in range(knapsack_max_weight + 1)]\n",
    "\n",
    "    for item in items:  # Process each one of the items\n",
    "        first_item_usage_pos = None\n",
    "\n",
    "        for i_knapsack in range(item.weight, len(knapsack)):  # Try to fit it in the \"knapsack table\"\n",
    "            if item.value > knapsack[i_knapsack]:\n",
    "                knapsack[i_knapsack] = item.value\n",
    "\n",
    "                if not first_item_usage_pos:\n",
    "                    first_item_usage_pos = i_knapsack\n",
    "\n",
    "            if i_knapsack - item.weight > 0:\n",
    "                if first_item_usage_pos:\n",
    "                    if i_knapsack < first_item_usage_pos + item.weight:  # Value not used twice\n",
    "                        complement_val = knapsack[i_knapsack - item.weight]\n",
    "\n",
    "                        if item.value + complement_val > knapsack[i_knapsack]:\n",
    "                            knapsack[i_knapsack] = item.value + complement_val\n",
    "                    else:  # Can not use value twice\n",
    "                        pass\n",
    "                else:  # Value never used\n",
    "                    complement_val = knapsack[i_knapsack - item.weight]\n",
    "\n",
    "                    if item.value + complement_val > knapsack[i_knapsack]:\n",
    "                        knapsack[i_knapsack] = item.value + complement_val\n",
    "\n",
    "                        if not first_item_usage_pos:\n",
    "                            first_item_usage_pos = i_knapsack\n",
    "\n",
    "    return knapsack[knapsack_max_weight]\n",
    "\n",
    "\n",
    "\n",
    "\n",
    "tests = [\n",
    "    {\n",
    "        'correct_output': 14,\n",
    "        'input':\n",
    "            {\n",
    "                'knapsack_max_weight': 15,\n",
    "                'items': [Item(10, 7), Item(9, 8), Item(5, 6)]}},\n",
    "    {\n",
    "        'correct_output': 13,\n",
    "        'input':\n",
    "            {\n",
    "                'knapsack_max_weight': 25,\n",
    "                'items': [Item(10, 2), Item(29, 10), Item(5, 7), Item(5, 3), Item(5, 1), Item(24, 12)]}}]\n",
    "for test in tests:\n",
    "    assert test['correct_output'] == max_value(**test['input'])"
   ]
  },
  {
   "cell_type": "markdown",
   "metadata": {
    "graffitiCellId": "id_sczu399"
   },
   "source": [
    "<span class=\"graffiti-highlight graffiti-id_sczu399-id_vljhmf7\"><i></i><button>Show Solution</button></span>"
   ]
  }
 ],
 "metadata": {
  "graffiti": {
   "firstAuthorId": "dev",
   "id": "id_c8cwdgc",
   "language": "EN"
  },
  "kernelspec": {
   "display_name": "Python 3",
   "language": "python",
   "name": "python3"
  },
  "language_info": {
   "codemirror_mode": {
    "name": "ipython",
    "version": 3
   },
   "file_extension": ".py",
   "mimetype": "text/x-python",
   "name": "python",
   "nbconvert_exporter": "python",
   "pygments_lexer": "ipython3",
   "version": "3.6.3"
  }
 },
 "nbformat": 4,
 "nbformat_minor": 2
}
